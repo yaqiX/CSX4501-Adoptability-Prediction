{
  "nbformat": 4,
  "nbformat_minor": 0,
  "metadata": {
    "colab": {
      "name": "Untitled1.ipynb",
      "provenance": [],
      "collapsed_sections": []
    },
    "kernelspec": {
      "name": "python3",
      "display_name": "Python 3"
    },
    "language_info": {
      "name": "python"
    }
  },
  "cells": [
    {
      "cell_type": "markdown",
      "source": [
        "I'm using colab here because my laptop doesn't support tensorflow. I only took around 10% of the overall pictures because colab just die when I load more than this amount."
      ],
      "metadata": {
        "id": "vY1n13NnGk4O"
      }
    },
    {
      "cell_type": "code",
      "execution_count": 2,
      "metadata": {
        "id": "_aJAO7wr6idk"
      },
      "outputs": [],
      "source": [
        "import pandas as pd\n",
        "import cv2\n",
        "\n",
        "from sklearn.model_selection import train_test_split\n",
        "import tensorflow as tf\n",
        "from tensorflow import keras\n",
        "from tensorflow.keras import layers\n",
        "from tensorflow.keras.regularizers import l2\n",
        "from tensorflow.keras.preprocessing.image import ImageDataGenerator\n",
        "from tensorflow.python.client import device_lib\n",
        "\n",
        "#visualizations\n",
        "import seaborn as sns\n",
        "import matplotlib.pyplot as plt"
      ]
    },
    {
      "cell_type": "code",
      "source": [
        "train = pd.read_csv('train.csv')\n",
        "test = pd.read_csv('test.csv')"
      ],
      "metadata": {
        "id": "8wbvGELT7gsF"
      },
      "execution_count": 4,
      "outputs": []
    },
    {
      "cell_type": "code",
      "source": [
        "def train_id_to_path(x):\n",
        "    return 'train/' + x + \".jpg\"\n",
        "def test_id_to_path(x):\n",
        "    return 'test/' + x + \".jpg\"\n",
        "\n",
        "#Read in the data and drop unnecessary columns\n",
        "train = pd.read_csv('train.csv')\n",
        "train = train.drop(['Subject Focus', 'Eyes', 'Face', 'Near', 'Action', 'Accessory', 'Group', 'Collage', 'Human', 'Occlusion', 'Info', 'Blur'],axis=1)\n",
        "\n",
        "test = pd.read_csv('test.csv')\n",
        "test = test.drop(['Subject Focus', 'Eyes', 'Face', 'Near', 'Action', 'Accessory', 'Group', 'Collage', 'Human', 'Occlusion', 'Info', 'Blur'],axis=1)\n",
        "\n",
        "#Add the .jpg extensions to the image file name ids\n",
        "train[\"img_path\"] = train[\"Id\"].apply(train_id_to_path)\n",
        "test[\"img_path\"] = test[\"Id\"].apply(test_id_to_path)"
      ],
      "metadata": {
        "id": "8VdkbjuS7l3f"
      },
      "execution_count": 5,
      "outputs": []
    },
    {
      "cell_type": "code",
      "source": [
        "train.head()"
      ],
      "metadata": {
        "colab": {
          "base_uri": "https://localhost:8080/",
          "height": 206
        },
        "id": "eB27Zu_g70VC",
        "outputId": "99d8b89c-07aa-4ea4-cf51-889edcf028cd"
      },
      "execution_count": 6,
      "outputs": [
        {
          "output_type": "execute_result",
          "data": {
            "text/plain": [
              "                                 Id  Pawpularity  \\\n",
              "0  f0204d25be85b2f56778f25a63d16cef           88   \n",
              "1  f0228ab82d01796ef319a40578a777d3           78   \n",
              "2  f02793c6e907c459f98e00bd08796301           65   \n",
              "3  f039ad73bf1d511142571341c0ba9a32           32   \n",
              "4  f0567f41c3059170ffbb1cee101beac0            4   \n",
              "\n",
              "                                     img_path  \n",
              "0  train/f0204d25be85b2f56778f25a63d16cef.jpg  \n",
              "1  train/f0228ab82d01796ef319a40578a777d3.jpg  \n",
              "2  train/f02793c6e907c459f98e00bd08796301.jpg  \n",
              "3  train/f039ad73bf1d511142571341c0ba9a32.jpg  \n",
              "4  train/f0567f41c3059170ffbb1cee101beac0.jpg  "
            ],
            "text/html": [
              "\n",
              "  <div id=\"df-8c9f1d99-a933-4e76-b0b4-162e604f5eae\">\n",
              "    <div class=\"colab-df-container\">\n",
              "      <div>\n",
              "<style scoped>\n",
              "    .dataframe tbody tr th:only-of-type {\n",
              "        vertical-align: middle;\n",
              "    }\n",
              "\n",
              "    .dataframe tbody tr th {\n",
              "        vertical-align: top;\n",
              "    }\n",
              "\n",
              "    .dataframe thead th {\n",
              "        text-align: right;\n",
              "    }\n",
              "</style>\n",
              "<table border=\"1\" class=\"dataframe\">\n",
              "  <thead>\n",
              "    <tr style=\"text-align: right;\">\n",
              "      <th></th>\n",
              "      <th>Id</th>\n",
              "      <th>Pawpularity</th>\n",
              "      <th>img_path</th>\n",
              "    </tr>\n",
              "  </thead>\n",
              "  <tbody>\n",
              "    <tr>\n",
              "      <th>0</th>\n",
              "      <td>f0204d25be85b2f56778f25a63d16cef</td>\n",
              "      <td>88</td>\n",
              "      <td>train/f0204d25be85b2f56778f25a63d16cef.jpg</td>\n",
              "    </tr>\n",
              "    <tr>\n",
              "      <th>1</th>\n",
              "      <td>f0228ab82d01796ef319a40578a777d3</td>\n",
              "      <td>78</td>\n",
              "      <td>train/f0228ab82d01796ef319a40578a777d3.jpg</td>\n",
              "    </tr>\n",
              "    <tr>\n",
              "      <th>2</th>\n",
              "      <td>f02793c6e907c459f98e00bd08796301</td>\n",
              "      <td>65</td>\n",
              "      <td>train/f02793c6e907c459f98e00bd08796301.jpg</td>\n",
              "    </tr>\n",
              "    <tr>\n",
              "      <th>3</th>\n",
              "      <td>f039ad73bf1d511142571341c0ba9a32</td>\n",
              "      <td>32</td>\n",
              "      <td>train/f039ad73bf1d511142571341c0ba9a32.jpg</td>\n",
              "    </tr>\n",
              "    <tr>\n",
              "      <th>4</th>\n",
              "      <td>f0567f41c3059170ffbb1cee101beac0</td>\n",
              "      <td>4</td>\n",
              "      <td>train/f0567f41c3059170ffbb1cee101beac0.jpg</td>\n",
              "    </tr>\n",
              "  </tbody>\n",
              "</table>\n",
              "</div>\n",
              "      <button class=\"colab-df-convert\" onclick=\"convertToInteractive('df-8c9f1d99-a933-4e76-b0b4-162e604f5eae')\"\n",
              "              title=\"Convert this dataframe to an interactive table.\"\n",
              "              style=\"display:none;\">\n",
              "        \n",
              "  <svg xmlns=\"http://www.w3.org/2000/svg\" height=\"24px\"viewBox=\"0 0 24 24\"\n",
              "       width=\"24px\">\n",
              "    <path d=\"M0 0h24v24H0V0z\" fill=\"none\"/>\n",
              "    <path d=\"M18.56 5.44l.94 2.06.94-2.06 2.06-.94-2.06-.94-.94-2.06-.94 2.06-2.06.94zm-11 1L8.5 8.5l.94-2.06 2.06-.94-2.06-.94L8.5 2.5l-.94 2.06-2.06.94zm10 10l.94 2.06.94-2.06 2.06-.94-2.06-.94-.94-2.06-.94 2.06-2.06.94z\"/><path d=\"M17.41 7.96l-1.37-1.37c-.4-.4-.92-.59-1.43-.59-.52 0-1.04.2-1.43.59L10.3 9.45l-7.72 7.72c-.78.78-.78 2.05 0 2.83L4 21.41c.39.39.9.59 1.41.59.51 0 1.02-.2 1.41-.59l7.78-7.78 2.81-2.81c.8-.78.8-2.07 0-2.86zM5.41 20L4 18.59l7.72-7.72 1.47 1.35L5.41 20z\"/>\n",
              "  </svg>\n",
              "      </button>\n",
              "      \n",
              "  <style>\n",
              "    .colab-df-container {\n",
              "      display:flex;\n",
              "      flex-wrap:wrap;\n",
              "      gap: 12px;\n",
              "    }\n",
              "\n",
              "    .colab-df-convert {\n",
              "      background-color: #E8F0FE;\n",
              "      border: none;\n",
              "      border-radius: 50%;\n",
              "      cursor: pointer;\n",
              "      display: none;\n",
              "      fill: #1967D2;\n",
              "      height: 32px;\n",
              "      padding: 0 0 0 0;\n",
              "      width: 32px;\n",
              "    }\n",
              "\n",
              "    .colab-df-convert:hover {\n",
              "      background-color: #E2EBFA;\n",
              "      box-shadow: 0px 1px 2px rgba(60, 64, 67, 0.3), 0px 1px 3px 1px rgba(60, 64, 67, 0.15);\n",
              "      fill: #174EA6;\n",
              "    }\n",
              "\n",
              "    [theme=dark] .colab-df-convert {\n",
              "      background-color: #3B4455;\n",
              "      fill: #D2E3FC;\n",
              "    }\n",
              "\n",
              "    [theme=dark] .colab-df-convert:hover {\n",
              "      background-color: #434B5C;\n",
              "      box-shadow: 0px 1px 3px 1px rgba(0, 0, 0, 0.15);\n",
              "      filter: drop-shadow(0px 1px 2px rgba(0, 0, 0, 0.3));\n",
              "      fill: #FFFFFF;\n",
              "    }\n",
              "  </style>\n",
              "\n",
              "      <script>\n",
              "        const buttonEl =\n",
              "          document.querySelector('#df-8c9f1d99-a933-4e76-b0b4-162e604f5eae button.colab-df-convert');\n",
              "        buttonEl.style.display =\n",
              "          google.colab.kernel.accessAllowed ? 'block' : 'none';\n",
              "\n",
              "        async function convertToInteractive(key) {\n",
              "          const element = document.querySelector('#df-8c9f1d99-a933-4e76-b0b4-162e604f5eae');\n",
              "          const dataTable =\n",
              "            await google.colab.kernel.invokeFunction('convertToInteractive',\n",
              "                                                     [key], {});\n",
              "          if (!dataTable) return;\n",
              "\n",
              "          const docLinkHtml = 'Like what you see? Visit the ' +\n",
              "            '<a target=\"_blank\" href=https://colab.research.google.com/notebooks/data_table.ipynb>data table notebook</a>'\n",
              "            + ' to learn more about interactive tables.';\n",
              "          element.innerHTML = '';\n",
              "          dataTable['output_type'] = 'display_data';\n",
              "          await google.colab.output.renderOutput(dataTable, element);\n",
              "          const docLink = document.createElement('div');\n",
              "          docLink.innerHTML = docLinkHtml;\n",
              "          element.appendChild(docLink);\n",
              "        }\n",
              "      </script>\n",
              "    </div>\n",
              "  </div>\n",
              "  "
            ]
          },
          "metadata": {},
          "execution_count": 6
        }
      ]
    },
    {
      "cell_type": "markdown",
      "source": [
        "I read that because for this tabular data, the pawpularity score range from 0-100, which is pretty wide. Instead, we can change it into a classification problem, which means that there would be less categories within the range."
      ],
      "metadata": {
        "id": "sYif2Siw89OF"
      }
    },
    {
      "cell_type": "code",
      "source": [
        "#binning columns to test models\n",
        "train['two_bin_pawp'] = pd.qcut(train['Pawpularity'], q=2, labels=False)\n",
        "train = train.astype({\"two_bin_pawp\": str})\n",
        "\n",
        "train['four_bin_pawp'] = pd.qcut(train['Pawpularity'], q=4, labels=False)\n",
        "train = train.astype({\"four_bin_pawp\": str})\n",
        "\n",
        "train['ten_bin_pawp'] = pd.qcut(train['Pawpularity'], q=10, labels=False)\n",
        "train = train.astype({\"ten_bin_pawp\": str})"
      ],
      "metadata": {
        "id": "siWuuoTr9VFR"
      },
      "execution_count": 7,
      "outputs": []
    },
    {
      "cell_type": "markdown",
      "source": [
        "For example, when the score is only classified within 2 bins, here's the result"
      ],
      "metadata": {
        "id": "O0OZimaP9qM6"
      }
    },
    {
      "cell_type": "code",
      "source": [
        "train2bin_stats = train.groupby('two_bin_pawp')\n",
        "train2bin_stats.describe()"
      ],
      "metadata": {
        "colab": {
          "base_uri": "https://localhost:8080/",
          "height": 175
        },
        "id": "_FiWvY3N9aD6",
        "outputId": "dd3f8e57-2b3e-4dda-b3d5-1d75fa370722"
      },
      "execution_count": 8,
      "outputs": [
        {
          "output_type": "execute_result",
          "data": {
            "text/plain": [
              "             Pawpularity                                                     \n",
              "                   count       mean        std   min   25%   50%   75%    max\n",
              "two_bin_pawp                                                                 \n",
              "0                  371.0  23.328841   8.138976   2.0  20.0  25.0  30.0   33.0\n",
              "1                  353.0  52.019830  17.361862  34.0  39.0  46.0  59.0  100.0"
            ],
            "text/html": [
              "\n",
              "  <div id=\"df-7f93475d-ab85-48a3-bcf9-5d00581bd3ec\">\n",
              "    <div class=\"colab-df-container\">\n",
              "      <div>\n",
              "<style scoped>\n",
              "    .dataframe tbody tr th:only-of-type {\n",
              "        vertical-align: middle;\n",
              "    }\n",
              "\n",
              "    .dataframe tbody tr th {\n",
              "        vertical-align: top;\n",
              "    }\n",
              "\n",
              "    .dataframe thead tr th {\n",
              "        text-align: left;\n",
              "    }\n",
              "\n",
              "    .dataframe thead tr:last-of-type th {\n",
              "        text-align: right;\n",
              "    }\n",
              "</style>\n",
              "<table border=\"1\" class=\"dataframe\">\n",
              "  <thead>\n",
              "    <tr>\n",
              "      <th></th>\n",
              "      <th colspan=\"8\" halign=\"left\">Pawpularity</th>\n",
              "    </tr>\n",
              "    <tr>\n",
              "      <th></th>\n",
              "      <th>count</th>\n",
              "      <th>mean</th>\n",
              "      <th>std</th>\n",
              "      <th>min</th>\n",
              "      <th>25%</th>\n",
              "      <th>50%</th>\n",
              "      <th>75%</th>\n",
              "      <th>max</th>\n",
              "    </tr>\n",
              "    <tr>\n",
              "      <th>two_bin_pawp</th>\n",
              "      <th></th>\n",
              "      <th></th>\n",
              "      <th></th>\n",
              "      <th></th>\n",
              "      <th></th>\n",
              "      <th></th>\n",
              "      <th></th>\n",
              "      <th></th>\n",
              "    </tr>\n",
              "  </thead>\n",
              "  <tbody>\n",
              "    <tr>\n",
              "      <th>0</th>\n",
              "      <td>371.0</td>\n",
              "      <td>23.328841</td>\n",
              "      <td>8.138976</td>\n",
              "      <td>2.0</td>\n",
              "      <td>20.0</td>\n",
              "      <td>25.0</td>\n",
              "      <td>30.0</td>\n",
              "      <td>33.0</td>\n",
              "    </tr>\n",
              "    <tr>\n",
              "      <th>1</th>\n",
              "      <td>353.0</td>\n",
              "      <td>52.019830</td>\n",
              "      <td>17.361862</td>\n",
              "      <td>34.0</td>\n",
              "      <td>39.0</td>\n",
              "      <td>46.0</td>\n",
              "      <td>59.0</td>\n",
              "      <td>100.0</td>\n",
              "    </tr>\n",
              "  </tbody>\n",
              "</table>\n",
              "</div>\n",
              "      <button class=\"colab-df-convert\" onclick=\"convertToInteractive('df-7f93475d-ab85-48a3-bcf9-5d00581bd3ec')\"\n",
              "              title=\"Convert this dataframe to an interactive table.\"\n",
              "              style=\"display:none;\">\n",
              "        \n",
              "  <svg xmlns=\"http://www.w3.org/2000/svg\" height=\"24px\"viewBox=\"0 0 24 24\"\n",
              "       width=\"24px\">\n",
              "    <path d=\"M0 0h24v24H0V0z\" fill=\"none\"/>\n",
              "    <path d=\"M18.56 5.44l.94 2.06.94-2.06 2.06-.94-2.06-.94-.94-2.06-.94 2.06-2.06.94zm-11 1L8.5 8.5l.94-2.06 2.06-.94-2.06-.94L8.5 2.5l-.94 2.06-2.06.94zm10 10l.94 2.06.94-2.06 2.06-.94-2.06-.94-.94-2.06-.94 2.06-2.06.94z\"/><path d=\"M17.41 7.96l-1.37-1.37c-.4-.4-.92-.59-1.43-.59-.52 0-1.04.2-1.43.59L10.3 9.45l-7.72 7.72c-.78.78-.78 2.05 0 2.83L4 21.41c.39.39.9.59 1.41.59.51 0 1.02-.2 1.41-.59l7.78-7.78 2.81-2.81c.8-.78.8-2.07 0-2.86zM5.41 20L4 18.59l7.72-7.72 1.47 1.35L5.41 20z\"/>\n",
              "  </svg>\n",
              "      </button>\n",
              "      \n",
              "  <style>\n",
              "    .colab-df-container {\n",
              "      display:flex;\n",
              "      flex-wrap:wrap;\n",
              "      gap: 12px;\n",
              "    }\n",
              "\n",
              "    .colab-df-convert {\n",
              "      background-color: #E8F0FE;\n",
              "      border: none;\n",
              "      border-radius: 50%;\n",
              "      cursor: pointer;\n",
              "      display: none;\n",
              "      fill: #1967D2;\n",
              "      height: 32px;\n",
              "      padding: 0 0 0 0;\n",
              "      width: 32px;\n",
              "    }\n",
              "\n",
              "    .colab-df-convert:hover {\n",
              "      background-color: #E2EBFA;\n",
              "      box-shadow: 0px 1px 2px rgba(60, 64, 67, 0.3), 0px 1px 3px 1px rgba(60, 64, 67, 0.15);\n",
              "      fill: #174EA6;\n",
              "    }\n",
              "\n",
              "    [theme=dark] .colab-df-convert {\n",
              "      background-color: #3B4455;\n",
              "      fill: #D2E3FC;\n",
              "    }\n",
              "\n",
              "    [theme=dark] .colab-df-convert:hover {\n",
              "      background-color: #434B5C;\n",
              "      box-shadow: 0px 1px 3px 1px rgba(0, 0, 0, 0.15);\n",
              "      filter: drop-shadow(0px 1px 2px rgba(0, 0, 0, 0.3));\n",
              "      fill: #FFFFFF;\n",
              "    }\n",
              "  </style>\n",
              "\n",
              "      <script>\n",
              "        const buttonEl =\n",
              "          document.querySelector('#df-7f93475d-ab85-48a3-bcf9-5d00581bd3ec button.colab-df-convert');\n",
              "        buttonEl.style.display =\n",
              "          google.colab.kernel.accessAllowed ? 'block' : 'none';\n",
              "\n",
              "        async function convertToInteractive(key) {\n",
              "          const element = document.querySelector('#df-7f93475d-ab85-48a3-bcf9-5d00581bd3ec');\n",
              "          const dataTable =\n",
              "            await google.colab.kernel.invokeFunction('convertToInteractive',\n",
              "                                                     [key], {});\n",
              "          if (!dataTable) return;\n",
              "\n",
              "          const docLinkHtml = 'Like what you see? Visit the ' +\n",
              "            '<a target=\"_blank\" href=https://colab.research.google.com/notebooks/data_table.ipynb>data table notebook</a>'\n",
              "            + ' to learn more about interactive tables.';\n",
              "          element.innerHTML = '';\n",
              "          dataTable['output_type'] = 'display_data';\n",
              "          await google.colab.output.renderOutput(dataTable, element);\n",
              "          const docLink = document.createElement('div');\n",
              "          docLink.innerHTML = docLinkHtml;\n",
              "          element.appendChild(docLink);\n",
              "        }\n",
              "      </script>\n",
              "    </div>\n",
              "  </div>\n",
              "  "
            ]
          },
          "metadata": {},
          "execution_count": 8
        }
      ]
    },
    {
      "cell_type": "markdown",
      "source": [
        "Now the train set would be:"
      ],
      "metadata": {
        "id": "kanntJXk9tgX"
      }
    },
    {
      "cell_type": "code",
      "source": [
        "train.head()"
      ],
      "metadata": {
        "colab": {
          "base_uri": "https://localhost:8080/",
          "height": 270
        },
        "id": "jHkrQXkY9cPy",
        "outputId": "1416ed78-22c4-4544-8d1c-863e1c61926e"
      },
      "execution_count": 9,
      "outputs": [
        {
          "output_type": "execute_result",
          "data": {
            "text/plain": [
              "                                 Id  Pawpularity  \\\n",
              "0  f0204d25be85b2f56778f25a63d16cef           88   \n",
              "1  f0228ab82d01796ef319a40578a777d3           78   \n",
              "2  f02793c6e907c459f98e00bd08796301           65   \n",
              "3  f039ad73bf1d511142571341c0ba9a32           32   \n",
              "4  f0567f41c3059170ffbb1cee101beac0            4   \n",
              "\n",
              "                                     img_path two_bin_pawp four_bin_pawp  \\\n",
              "0  train/f0204d25be85b2f56778f25a63d16cef.jpg            1             3   \n",
              "1  train/f0228ab82d01796ef319a40578a777d3.jpg            1             3   \n",
              "2  train/f02793c6e907c459f98e00bd08796301.jpg            1             3   \n",
              "3  train/f039ad73bf1d511142571341c0ba9a32.jpg            0             1   \n",
              "4  train/f0567f41c3059170ffbb1cee101beac0.jpg            0             0   \n",
              "\n",
              "  ten_bin_pawp  \n",
              "0            9  \n",
              "1            9  \n",
              "2            9  \n",
              "3            4  \n",
              "4            0  "
            ],
            "text/html": [
              "\n",
              "  <div id=\"df-ec6f6542-9fbe-4989-acea-53814e85c3f6\">\n",
              "    <div class=\"colab-df-container\">\n",
              "      <div>\n",
              "<style scoped>\n",
              "    .dataframe tbody tr th:only-of-type {\n",
              "        vertical-align: middle;\n",
              "    }\n",
              "\n",
              "    .dataframe tbody tr th {\n",
              "        vertical-align: top;\n",
              "    }\n",
              "\n",
              "    .dataframe thead th {\n",
              "        text-align: right;\n",
              "    }\n",
              "</style>\n",
              "<table border=\"1\" class=\"dataframe\">\n",
              "  <thead>\n",
              "    <tr style=\"text-align: right;\">\n",
              "      <th></th>\n",
              "      <th>Id</th>\n",
              "      <th>Pawpularity</th>\n",
              "      <th>img_path</th>\n",
              "      <th>two_bin_pawp</th>\n",
              "      <th>four_bin_pawp</th>\n",
              "      <th>ten_bin_pawp</th>\n",
              "    </tr>\n",
              "  </thead>\n",
              "  <tbody>\n",
              "    <tr>\n",
              "      <th>0</th>\n",
              "      <td>f0204d25be85b2f56778f25a63d16cef</td>\n",
              "      <td>88</td>\n",
              "      <td>train/f0204d25be85b2f56778f25a63d16cef.jpg</td>\n",
              "      <td>1</td>\n",
              "      <td>3</td>\n",
              "      <td>9</td>\n",
              "    </tr>\n",
              "    <tr>\n",
              "      <th>1</th>\n",
              "      <td>f0228ab82d01796ef319a40578a777d3</td>\n",
              "      <td>78</td>\n",
              "      <td>train/f0228ab82d01796ef319a40578a777d3.jpg</td>\n",
              "      <td>1</td>\n",
              "      <td>3</td>\n",
              "      <td>9</td>\n",
              "    </tr>\n",
              "    <tr>\n",
              "      <th>2</th>\n",
              "      <td>f02793c6e907c459f98e00bd08796301</td>\n",
              "      <td>65</td>\n",
              "      <td>train/f02793c6e907c459f98e00bd08796301.jpg</td>\n",
              "      <td>1</td>\n",
              "      <td>3</td>\n",
              "      <td>9</td>\n",
              "    </tr>\n",
              "    <tr>\n",
              "      <th>3</th>\n",
              "      <td>f039ad73bf1d511142571341c0ba9a32</td>\n",
              "      <td>32</td>\n",
              "      <td>train/f039ad73bf1d511142571341c0ba9a32.jpg</td>\n",
              "      <td>0</td>\n",
              "      <td>1</td>\n",
              "      <td>4</td>\n",
              "    </tr>\n",
              "    <tr>\n",
              "      <th>4</th>\n",
              "      <td>f0567f41c3059170ffbb1cee101beac0</td>\n",
              "      <td>4</td>\n",
              "      <td>train/f0567f41c3059170ffbb1cee101beac0.jpg</td>\n",
              "      <td>0</td>\n",
              "      <td>0</td>\n",
              "      <td>0</td>\n",
              "    </tr>\n",
              "  </tbody>\n",
              "</table>\n",
              "</div>\n",
              "      <button class=\"colab-df-convert\" onclick=\"convertToInteractive('df-ec6f6542-9fbe-4989-acea-53814e85c3f6')\"\n",
              "              title=\"Convert this dataframe to an interactive table.\"\n",
              "              style=\"display:none;\">\n",
              "        \n",
              "  <svg xmlns=\"http://www.w3.org/2000/svg\" height=\"24px\"viewBox=\"0 0 24 24\"\n",
              "       width=\"24px\">\n",
              "    <path d=\"M0 0h24v24H0V0z\" fill=\"none\"/>\n",
              "    <path d=\"M18.56 5.44l.94 2.06.94-2.06 2.06-.94-2.06-.94-.94-2.06-.94 2.06-2.06.94zm-11 1L8.5 8.5l.94-2.06 2.06-.94-2.06-.94L8.5 2.5l-.94 2.06-2.06.94zm10 10l.94 2.06.94-2.06 2.06-.94-2.06-.94-.94-2.06-.94 2.06-2.06.94z\"/><path d=\"M17.41 7.96l-1.37-1.37c-.4-.4-.92-.59-1.43-.59-.52 0-1.04.2-1.43.59L10.3 9.45l-7.72 7.72c-.78.78-.78 2.05 0 2.83L4 21.41c.39.39.9.59 1.41.59.51 0 1.02-.2 1.41-.59l7.78-7.78 2.81-2.81c.8-.78.8-2.07 0-2.86zM5.41 20L4 18.59l7.72-7.72 1.47 1.35L5.41 20z\"/>\n",
              "  </svg>\n",
              "      </button>\n",
              "      \n",
              "  <style>\n",
              "    .colab-df-container {\n",
              "      display:flex;\n",
              "      flex-wrap:wrap;\n",
              "      gap: 12px;\n",
              "    }\n",
              "\n",
              "    .colab-df-convert {\n",
              "      background-color: #E8F0FE;\n",
              "      border: none;\n",
              "      border-radius: 50%;\n",
              "      cursor: pointer;\n",
              "      display: none;\n",
              "      fill: #1967D2;\n",
              "      height: 32px;\n",
              "      padding: 0 0 0 0;\n",
              "      width: 32px;\n",
              "    }\n",
              "\n",
              "    .colab-df-convert:hover {\n",
              "      background-color: #E2EBFA;\n",
              "      box-shadow: 0px 1px 2px rgba(60, 64, 67, 0.3), 0px 1px 3px 1px rgba(60, 64, 67, 0.15);\n",
              "      fill: #174EA6;\n",
              "    }\n",
              "\n",
              "    [theme=dark] .colab-df-convert {\n",
              "      background-color: #3B4455;\n",
              "      fill: #D2E3FC;\n",
              "    }\n",
              "\n",
              "    [theme=dark] .colab-df-convert:hover {\n",
              "      background-color: #434B5C;\n",
              "      box-shadow: 0px 1px 3px 1px rgba(0, 0, 0, 0.15);\n",
              "      filter: drop-shadow(0px 1px 2px rgba(0, 0, 0, 0.3));\n",
              "      fill: #FFFFFF;\n",
              "    }\n",
              "  </style>\n",
              "\n",
              "      <script>\n",
              "        const buttonEl =\n",
              "          document.querySelector('#df-ec6f6542-9fbe-4989-acea-53814e85c3f6 button.colab-df-convert');\n",
              "        buttonEl.style.display =\n",
              "          google.colab.kernel.accessAllowed ? 'block' : 'none';\n",
              "\n",
              "        async function convertToInteractive(key) {\n",
              "          const element = document.querySelector('#df-ec6f6542-9fbe-4989-acea-53814e85c3f6');\n",
              "          const dataTable =\n",
              "            await google.colab.kernel.invokeFunction('convertToInteractive',\n",
              "                                                     [key], {});\n",
              "          if (!dataTable) return;\n",
              "\n",
              "          const docLinkHtml = 'Like what you see? Visit the ' +\n",
              "            '<a target=\"_blank\" href=https://colab.research.google.com/notebooks/data_table.ipynb>data table notebook</a>'\n",
              "            + ' to learn more about interactive tables.';\n",
              "          element.innerHTML = '';\n",
              "          dataTable['output_type'] = 'display_data';\n",
              "          await google.colab.output.renderOutput(dataTable, element);\n",
              "          const docLink = document.createElement('div');\n",
              "          docLink.innerHTML = docLinkHtml;\n",
              "          element.appendChild(docLink);\n",
              "        }\n",
              "      </script>\n",
              "    </div>\n",
              "  </div>\n",
              "  "
            ]
          },
          "metadata": {},
          "execution_count": 9
        }
      ]
    },
    {
      "cell_type": "code",
      "source": [
        "#Set image size. Because the image size in the test data is 128 x 128 so I'll go with that\n",
        "image_height = 128\n",
        "image_width = 128\n",
        "\n",
        "#define a function that accepts an image url and outputs an eager tensor\n",
        "def path_to_eagertensor(image_path):\n",
        "    raw = tf.io.read_file(image_path)\n",
        "    image = tf.image.decode_jpeg(raw, channels=3)\n",
        "    image = tf.cast(image, tf.float32) / 255.0\n",
        "    #image = tf.image.resize_with_pad(image, image_height, image_width) #optional with padding to retain original dimensions\n",
        "    image = tf.image.resize(image, (image_height, image_width))\n",
        "    return image"
      ],
      "metadata": {
        "id": "JHPhd1Nn9vkh"
      },
      "execution_count": 10,
      "outputs": []
    },
    {
      "cell_type": "code",
      "source": [
        "print(train['img_path'][0])"
      ],
      "metadata": {
        "colab": {
          "base_uri": "https://localhost:8080/"
        },
        "id": "kJ6nshtp-Hvy",
        "outputId": "f31610be-82e0-41e6-d8ca-b368092f7735"
      },
      "execution_count": 11,
      "outputs": [
        {
          "output_type": "stream",
          "name": "stdout",
          "text": [
            "train/f0204d25be85b2f56778f25a63d16cef.jpg\n"
          ]
        }
      ]
    },
    {
      "cell_type": "code",
      "source": [
        "og_example_image = plt.imread('train/f0204d25be85b2f56778f25a63d16cef.jpg') \n",
        "print(og_example_image.shape)\n",
        "\n",
        "plt.imshow(og_example_image)\n",
        "plt.show()"
      ],
      "metadata": {
        "colab": {
          "base_uri": "https://localhost:8080/",
          "height": 287
        },
        "id": "niehgdi7-JzO",
        "outputId": "a1b6312e-e657-4257-8b33-99ab9285ba2d"
      },
      "execution_count": 13,
      "outputs": [
        {
          "output_type": "stream",
          "name": "stdout",
          "text": [
            "(960, 720, 3)\n"
          ]
        },
        {
          "output_type": "display_data",
          "data": {
            "text/plain": [
              "<Figure size 432x288 with 1 Axes>"
            ],
            "image/png": "[encoded data removed]"
          },
          "metadata": {
            "needs_background": "light"
          }
        }
      ]
    },
    {
      "cell_type": "code",
      "source": [
        "example_image = path_to_eagertensor('train/f0204d25be85b2f56778f25a63d16cef.jpg')"
      ],
      "metadata": {
        "id": "Lwb6KYlD-QWq"
      },
      "execution_count": 14,
      "outputs": []
    },
    {
      "cell_type": "code",
      "source": [
        "#show the image after tensor processing\n",
        "plt.imshow(example_image)\n",
        "plt.show()"
      ],
      "metadata": {
        "colab": {
          "base_uri": "https://localhost:8080/",
          "height": 268
        },
        "id": "wTSTMW6v-eBf",
        "outputId": "f26f44c7-2899-4994-d6bc-57393e2270d9"
      },
      "execution_count": 17,
      "outputs": [
        {
          "output_type": "display_data",
          "data": {
            "text/plain": [
              "<Figure size 432x288 with 1 Axes>"
            ],
            "image/png": "[encoded data removed]"
          },
          "metadata": {
            "needs_background": "light"
          }
        }
      ]
    },
    {
      "cell_type": "code",
      "source": [
        "import numpy as np"
      ],
      "metadata": {
        "id": "0GmCas3k-1-M"
      },
      "execution_count": 21,
      "outputs": []
    },
    {
      "cell_type": "markdown",
      "source": [
        "add the processed picture in train and test folder into a list"
      ],
      "metadata": {
        "id": "dvtNPy6O-50e"
      }
    },
    {
      "cell_type": "code",
      "source": [
        "X = []\n",
        "for img in train['img_path']:\n",
        "    new_img_tensor = path_to_eagertensor(img)\n",
        "    X.append(new_img_tensor)\n",
        "    \n",
        "print(type(X),len(X))\n",
        "X = np.array(X)\n",
        "print(type(X),X.shape)"
      ],
      "metadata": {
        "colab": {
          "base_uri": "https://localhost:8080/"
        },
        "id": "W6l_A39k-nRJ",
        "outputId": "095f804b-b4ba-476f-92be-5fade36033b5"
      },
      "execution_count": 20,
      "outputs": [
        {
          "output_type": "stream",
          "name": "stdout",
          "text": [
            "<class 'list'> 724\n",
            "<class 'numpy.ndarray'> (724, 128, 128, 3)\n"
          ]
        }
      ]
    },
    {
      "cell_type": "code",
      "source": [
        "X_test = []\n",
        "for img in test['img_path']:\n",
        "    new_img_tensor = path_to_eagertensor(img)\n",
        "    X_test.append(new_img_tensor)\n",
        "    \n",
        "print(type(X_test),len(X_test))\n",
        "X_test = np.array(X_test)\n",
        "print(type(X_test),X_test.shape)"
      ],
      "metadata": {
        "colab": {
          "base_uri": "https://localhost:8080/"
        },
        "id": "oTlK08ra-xj-",
        "outputId": "6c069227-fd61-4b74-c26b-ef5b7fc3d75d"
      },
      "execution_count": 22,
      "outputs": [
        {
          "output_type": "stream",
          "name": "stdout",
          "text": [
            "<class 'list'> 8\n",
            "<class 'numpy.ndarray'> (8, 128, 128, 3)\n"
          ]
        }
      ]
    },
    {
      "cell_type": "markdown",
      "source": [
        "Here X is the data for modeling and predicting. The test image is provided by Petfinder for submission, which are not actually pet pictures and only has 8. So I'll take 20% of X as the actual test set."
      ],
      "metadata": {
        "id": "6y_fAc3a_XD8"
      }
    },
    {
      "cell_type": "code",
      "source": [
        "y = train['Pawpularity']\n",
        "x_train, x_test, y_train, y_test = train_test_split(X, y, test_size=0.2, random_state=5)"
      ],
      "metadata": {
        "id": "ffj-okzu_RQ_"
      },
      "execution_count": 23,
      "outputs": []
    },
    {
      "cell_type": "markdown",
      "source": [
        "architecture"
      ],
      "metadata": {
        "id": "z6BgcFo9_36t"
      }
    },
    {
      "cell_type": "code",
      "source": [
        "inputs = tf.keras.Input(shape=(image_height,image_width,3))\n",
        "\n",
        "#start off with x just being those inputs\n",
        "x = inputs\n",
        "\n",
        "x = tf.keras.layers.Conv2D(filters = 16, kernel_size = (7,7), strides = (2,2), padding='valid', kernel_initializer='he_normal', kernel_regularizer=l2(0.0005), activation = 'relu')(x)\n",
        "x = tf.keras.layers.Conv2D(filters = 32, kernel_size = (3,3), padding='same', activation = 'relu')(x)\n",
        "x = tf.keras.layers.BatchNormalization()(x)\n",
        "x = tf.keras.layers.Conv2D(filters = 32, kernel_size = (3,3), strides = (2,2), padding='same', kernel_initializer='he_normal', kernel_regularizer=l2(0.0005), activation = 'relu')(x)\n",
        "x = tf.keras.layers.BatchNormalization()(x)\n",
        "x = tf.keras.layers.Dropout(0.25)(x)\n",
        "\n",
        "\n",
        "x = tf.keras.layers.Conv2D(filters = 64, kernel_size = (3,3), padding='same', kernel_initializer='he_normal', kernel_regularizer=l2(0.0002), activation = 'relu')(x)\n",
        "x = tf.keras.layers.BatchNormalization()(x)\n",
        "x = tf.keras.layers.Conv2D(filters = 64, kernel_size = (3,3), strides = (2,2), padding='same', kernel_initializer='he_normal', kernel_regularizer=l2(0.0005), activation = 'relu')(x)\n",
        "x = tf.keras.layers.BatchNormalization()(x)\n",
        "x = tf.keras.layers.Dropout(0.25)(x)\n",
        "\n",
        "x = tf.keras.layers.Conv2D(filters = 128, kernel_size = (3,3), padding='same', kernel_initializer='he_normal', kernel_regularizer=l2(0.0002), activation = 'relu')(x)\n",
        "x = tf.keras.layers.BatchNormalization()(x)\n",
        "x = tf.keras.layers.MaxPooling2D(pool_size=(2, 2))(x)\n",
        "x = tf.keras.layers.Conv2D(filters = 128, kernel_size = (3,3),padding='same', kernel_initializer='he_normal', kernel_regularizer=l2(0.0002), activation = 'relu')(x)\n",
        "x = tf.keras.layers.BatchNormalization()(x)\n",
        "x = tf.keras.layers.Dropout(0.25)(x)\n",
        "\n",
        "x = tf.keras.layers.Flatten()(x)\n",
        "x = tf.keras.layers.Dense(512, activation = \"relu\")(x)\n",
        "x = tf.keras.layers.Dropout(0.5)(x)\n",
        "\n",
        "output = tf.keras.layers.Dense(1)(x)\n",
        "\n",
        "model = tf.keras.Model(inputs = inputs, outputs = output)"
      ],
      "metadata": {
        "id": "eR56TBUA_4NY"
      },
      "execution_count": 24,
      "outputs": []
    },
    {
      "cell_type": "code",
      "source": [
        "model.summary()"
      ],
      "metadata": {
        "colab": {
          "base_uri": "https://localhost:8080/"
        },
        "id": "dynjsbyX_9p-",
        "outputId": "d4fa3628-a610-4b78-bee2-9f5d6957de35"
      },
      "execution_count": 25,
      "outputs": [
        {
          "output_type": "stream",
          "name": "stdout",
          "text": [
            "Model: \"model\"\n",
            "_________________________________________________________________\n",
            " Layer (type)                Output Shape              Param #   \n",
            "=================================================================\n",
            " input_1 (InputLayer)        [(None, 128, 128, 3)]     0         \n",
            "                                                                 \n",
            " conv2d (Conv2D)             (None, 61, 61, 16)        2368      \n",
            "                                                                 \n",
            " conv2d_1 (Conv2D)           (None, 61, 61, 32)        4640      \n",
            "                                                                 \n",
            " batch_normalization (BatchN  (None, 61, 61, 32)       128       \n",
            " ormalization)                                                   \n",
            "                                                                 \n",
            " conv2d_2 (Conv2D)           (None, 31, 31, 32)        9248      \n",
            "                                                                 \n",
            " batch_normalization_1 (Batc  (None, 31, 31, 32)       128       \n",
            " hNormalization)                                                 \n",
            "                                                                 \n",
            " dropout (Dropout)           (None, 31, 31, 32)        0         \n",
            "                                                                 \n",
            " conv2d_3 (Conv2D)           (None, 31, 31, 64)        18496     \n",
            "                                                                 \n",
            " batch_normalization_2 (Batc  (None, 31, 31, 64)       256       \n",
            " hNormalization)                                                 \n",
            "                                                                 \n",
            " conv2d_4 (Conv2D)           (None, 16, 16, 64)        36928     \n",
            "                                                                 \n",
            " batch_normalization_3 (Batc  (None, 16, 16, 64)       256       \n",
            " hNormalization)                                                 \n",
            "                                                                 \n",
            " dropout_1 (Dropout)         (None, 16, 16, 64)        0         \n",
            "                                                                 \n",
            " conv2d_5 (Conv2D)           (None, 16, 16, 128)       73856     \n",
            "                                                                 \n",
            " batch_normalization_4 (Batc  (None, 16, 16, 128)      512       \n",
            " hNormalization)                                                 \n",
            "                                                                 \n",
            " max_pooling2d (MaxPooling2D  (None, 8, 8, 128)        0         \n",
            " )                                                               \n",
            "                                                                 \n",
            " conv2d_6 (Conv2D)           (None, 8, 8, 128)         147584    \n",
            "                                                                 \n",
            " batch_normalization_5 (Batc  (None, 8, 8, 128)        512       \n",
            " hNormalization)                                                 \n",
            "                                                                 \n",
            " dropout_2 (Dropout)         (None, 8, 8, 128)         0         \n",
            "                                                                 \n",
            " flatten (Flatten)           (None, 8192)              0         \n",
            "                                                                 \n",
            " dense (Dense)               (None, 512)               4194816   \n",
            "                                                                 \n",
            " dropout_3 (Dropout)         (None, 512)               0         \n",
            "                                                                 \n",
            " dense_1 (Dense)             (None, 1)                 513       \n",
            "                                                                 \n",
            "=================================================================\n",
            "Total params: 4,490,241\n",
            "Trainable params: 4,489,345\n",
            "Non-trainable params: 896\n",
            "_________________________________________________________________\n"
          ]
        }
      ]
    },
    {
      "cell_type": "markdown",
      "source": [
        "Compile"
      ],
      "metadata": {
        "id": "-07qn4aYAPE5"
      }
    },
    {
      "cell_type": "code",
      "source": [
        "model.compile(\n",
        "    loss = 'mse', \n",
        "    optimizer = 'Adam', \n",
        "    metrics = [tf.keras.metrics.RootMeanSquaredError(name=\"rmse\"), \"mae\", \"mape\"])"
      ],
      "metadata": {
        "id": "SPdd41CMAAWk"
      },
      "execution_count": 26,
      "outputs": []
    },
    {
      "cell_type": "markdown",
      "source": [
        "data augmentation"
      ],
      "metadata": {
        "id": "sLFR_bgPAl5C"
      }
    },
    {
      "cell_type": "code",
      "source": [
        "data_augmentation = ImageDataGenerator(\n",
        "    rotation_range = 15, \n",
        "    zoom_range = 0.15,\n",
        "    width_shift_range = 0.2, \n",
        "    height_shift_range = 0.2, \n",
        "    shear_range = 0.1,\n",
        "    horizontal_flip = True, \n",
        "    fill_mode = \"nearest\")"
      ],
      "metadata": {
        "id": "EqixAcHdAQB0"
      },
      "execution_count": 27,
      "outputs": []
    },
    {
      "cell_type": "markdown",
      "source": [
        "Fit the model"
      ],
      "metadata": {
        "id": "JL6qNkVqAr1y"
      }
    },
    {
      "cell_type": "code",
      "source": [
        "history = model.fit(\n",
        "    data_augmentation.flow(x_train,y_train,batch_size=32),\n",
        "    validation_data = (x_test,y_test),\n",
        "    steps_per_epoch = len(x_train) // 32,\n",
        "    epochs = 60\n",
        ")"
      ],
      "metadata": {
        "colab": {
          "base_uri": "https://localhost:8080/"
        },
        "id": "fXOafCwvAoMw",
        "outputId": "e0aab798-858b-4de5-9fb3-93b4cd14daa2"
      },
      "execution_count": 28,
      "outputs": [
        {
          "output_type": "stream",
          "name": "stdout",
          "text": [
            "Epoch 1/60\n",
            "18/18 [==============================] - 17s 771ms/step - loss: 589.5962 - rmse: 24.2767 - mae: 18.8445 - mape: 83.6907 - val_loss: 1512.2533 - val_rmse: 38.8846 - val_mae: 33.6316 - val_mape: 86.9545\n",
            "Epoch 2/60\n",
            "18/18 [==============================] - 13s 719ms/step - loss: 432.0595 - rmse: 20.7802 - mae: 15.7743 - mape: 71.7162 - val_loss: 1385.2373 - val_rmse: 37.2155 - val_mae: 31.8145 - val_mape: 84.4735\n",
            "Epoch 3/60\n",
            "18/18 [==============================] - 13s 696ms/step - loss: 436.3828 - rmse: 20.8840 - mae: 15.4122 - mape: 76.1836 - val_loss: 1043.1688 - val_rmse: 32.2943 - val_mae: 26.5669 - val_mape: 80.4681\n",
            "Epoch 4/60\n",
            "18/18 [==============================] - 13s 713ms/step - loss: 443.6091 - rmse: 21.0562 - mae: 15.7760 - mape: 75.9589 - val_loss: 807.3325 - val_rmse: 28.4093 - val_mae: 22.0715 - val_mape: 77.2853\n",
            "Epoch 5/60\n",
            "18/18 [==============================] - 13s 715ms/step - loss: 421.3413 - rmse: 20.5206 - mae: 15.4904 - mape: 76.8918 - val_loss: 688.6993 - val_rmse: 26.2384 - val_mae: 19.4424 - val_mape: 77.1042\n",
            "Epoch 6/60\n",
            "18/18 [==============================] - 13s 709ms/step - loss: 436.2284 - rmse: 20.8802 - mae: 15.9422 - mape: 81.8200 - val_loss: 687.9589 - val_rmse: 26.2243 - val_mae: 19.3479 - val_mape: 73.6042\n",
            "Epoch 7/60\n",
            "18/18 [==============================] - 13s 705ms/step - loss: 438.0066 - rmse: 20.9227 - mae: 15.7000 - mape: 80.2893 - val_loss: 619.4868 - val_rmse: 24.8845 - val_mae: 18.3282 - val_mape: 81.6565\n",
            "Epoch 8/60\n",
            "18/18 [==============================] - 13s 706ms/step - loss: 429.3492 - rmse: 20.7148 - mae: 15.3648 - mape: 80.6706 - val_loss: 577.9948 - val_rmse: 24.0364 - val_mae: 17.7769 - val_mape: 81.6885\n",
            "Epoch 9/60\n",
            "18/18 [==============================] - 13s 705ms/step - loss: 422.6307 - rmse: 20.5519 - mae: 15.0058 - mape: 72.2030 - val_loss: 572.0692 - val_rmse: 23.9128 - val_mae: 17.6727 - val_mape: 89.8405\n",
            "Epoch 10/60\n",
            "18/18 [==============================] - 13s 704ms/step - loss: 437.1322 - rmse: 20.9017 - mae: 15.4692 - mape: 76.0733 - val_loss: 884.1144 - val_rmse: 29.7299 - val_mae: 22.8385 - val_mape: 90.7192\n",
            "Epoch 11/60\n",
            "18/18 [==============================] - 13s 705ms/step - loss: 404.8185 - rmse: 20.1139 - mae: 15.0522 - mape: 73.0492 - val_loss: 484.4561 - val_rmse: 22.0047 - val_mae: 16.0980 - val_mape: 88.8443\n",
            "Epoch 12/60\n",
            "18/18 [==============================] - 13s 701ms/step - loss: 450.5069 - rmse: 21.2192 - mae: 15.4730 - mape: 76.9596 - val_loss: 546.1267 - val_rmse: 23.3640 - val_mae: 16.9370 - val_mape: 85.4593\n",
            "Epoch 13/60\n",
            "18/18 [==============================] - 13s 693ms/step - loss: 426.4902 - rmse: 20.6456 - mae: 15.6165 - mape: 75.9598 - val_loss: 627.1479 - val_rmse: 25.0379 - val_mae: 18.2629 - val_mape: 84.8014\n",
            "Epoch 14/60\n",
            "18/18 [==============================] - 13s 696ms/step - loss: 411.4011 - rmse: 20.2768 - mae: 15.1578 - mape: 73.4885 - val_loss: 544.2123 - val_rmse: 23.3230 - val_mae: 16.6658 - val_mape: 85.2342\n",
            "Epoch 15/60\n",
            "18/18 [==============================] - 13s 691ms/step - loss: 430.2057 - rmse: 20.7353 - mae: 15.5623 - mape: 77.7269 - val_loss: 499.8570 - val_rmse: 22.3518 - val_mae: 16.1191 - val_mape: 91.8177\n",
            "Epoch 16/60\n",
            "18/18 [==============================] - 13s 692ms/step - loss: 402.6275 - rmse: 20.0593 - mae: 14.8866 - mape: 70.6240 - val_loss: 441.9894 - val_rmse: 21.0175 - val_mae: 15.0153 - val_mape: 99.3963\n",
            "Epoch 17/60\n",
            "18/18 [==============================] - 13s 693ms/step - loss: 443.2890 - rmse: 21.0484 - mae: 15.8860 - mape: 78.2523 - val_loss: 499.6099 - val_rmse: 22.3463 - val_mae: 16.3268 - val_mape: 95.6957\n",
            "Epoch 18/60\n",
            "18/18 [==============================] - 12s 686ms/step - loss: 423.3816 - rmse: 20.5701 - mae: 15.0969 - mape: 72.8518 - val_loss: 532.1071 - val_rmse: 23.0619 - val_mae: 16.8555 - val_mape: 88.4029\n",
            "Epoch 19/60\n",
            "18/18 [==============================] - 13s 690ms/step - loss: 430.6521 - rmse: 20.7460 - mae: 15.0516 - mape: 74.3388 - val_loss: 481.8214 - val_rmse: 21.9446 - val_mae: 16.1068 - val_mape: 96.4015\n",
            "Epoch 20/60\n",
            "18/18 [==============================] - 12s 682ms/step - loss: 464.8548 - rmse: 21.5546 - mae: 15.7616 - mape: 72.4931 - val_loss: 454.0070 - val_rmse: 21.3014 - val_mae: 15.0394 - val_mape: 89.8702\n",
            "Epoch 21/60\n",
            "18/18 [==============================] - 13s 692ms/step - loss: 421.6685 - rmse: 20.5283 - mae: 15.4244 - mape: 74.1741 - val_loss: 486.3109 - val_rmse: 22.0466 - val_mae: 15.5810 - val_mape: 83.0519\n",
            "Epoch 22/60\n",
            "18/18 [==============================] - 12s 674ms/step - loss: 427.3105 - rmse: 20.6653 - mae: 15.3193 - mape: 74.4576 - val_loss: 481.9673 - val_rmse: 21.9479 - val_mae: 15.5997 - val_mape: 89.2917\n",
            "Epoch 23/60\n",
            "18/18 [==============================] - 12s 678ms/step - loss: 407.1255 - rmse: 20.1710 - mae: 15.2991 - mape: 77.6257 - val_loss: 517.4690 - val_rmse: 22.7423 - val_mae: 16.3079 - val_mape: 87.5415\n",
            "Epoch 24/60\n",
            "18/18 [==============================] - 13s 698ms/step - loss: 421.6451 - rmse: 20.5277 - mae: 15.5212 - mape: 74.1453 - val_loss: 591.2748 - val_rmse: 24.3108 - val_mae: 17.9147 - val_mape: 95.2657\n",
            "Epoch 25/60\n",
            "18/18 [==============================] - 12s 670ms/step - loss: 436.7491 - rmse: 20.8924 - mae: 15.5318 - mape: 76.6106 - val_loss: 563.4069 - val_rmse: 23.7307 - val_mae: 16.9421 - val_mape: 89.4460\n",
            "Epoch 26/60\n",
            "18/18 [==============================] - 12s 691ms/step - loss: 423.5865 - rmse: 20.5749 - mae: 14.9351 - mape: 70.9851 - val_loss: 495.4950 - val_rmse: 22.2539 - val_mae: 15.9718 - val_mape: 93.2671\n",
            "Epoch 27/60\n",
            "18/18 [==============================] - 12s 678ms/step - loss: 436.0525 - rmse: 20.8757 - mae: 15.6917 - mape: 77.7363 - val_loss: 528.1507 - val_rmse: 22.9759 - val_mae: 16.8390 - val_mape: 100.2470\n",
            "Epoch 28/60\n",
            "18/18 [==============================] - 13s 710ms/step - loss: 467.4794 - rmse: 21.6153 - mae: 15.9504 - mape: 69.6161 - val_loss: 520.9597 - val_rmse: 22.8188 - val_mae: 16.2189 - val_mape: 113.4483\n",
            "Epoch 29/60\n",
            "18/18 [==============================] - 13s 700ms/step - loss: 457.0995 - rmse: 21.3738 - mae: 16.2520 - mape: 76.3068 - val_loss: 731.6000 - val_rmse: 27.0433 - val_mae: 19.3188 - val_mape: 95.8121\n",
            "Epoch 30/60\n",
            "18/18 [==============================] - 13s 701ms/step - loss: 439.6629 - rmse: 20.9619 - mae: 15.6447 - mape: 77.6484 - val_loss: 788.9379 - val_rmse: 28.0834 - val_mae: 18.4995 - val_mape: 103.4725\n",
            "Epoch 31/60\n",
            "18/18 [==============================] - 13s 705ms/step - loss: 423.8270 - rmse: 20.5807 - mae: 15.2696 - mape: 73.6251 - val_loss: 886.0226 - val_rmse: 29.7617 - val_mae: 21.8810 - val_mape: 100.8063\n",
            "Epoch 32/60\n",
            "18/18 [==============================] - 13s 706ms/step - loss: 471.9470 - rmse: 21.7183 - mae: 16.5662 - mape: 87.7434 - val_loss: 561.0076 - val_rmse: 23.6800 - val_mae: 17.2027 - val_mape: 103.8044\n",
            "Epoch 33/60\n",
            "18/18 [==============================] - 13s 704ms/step - loss: 425.4126 - rmse: 20.6191 - mae: 15.4103 - mape: 76.6814 - val_loss: 799.5126 - val_rmse: 28.2710 - val_mae: 19.5683 - val_mape: 102.1660\n",
            "Epoch 34/60\n",
            "18/18 [==============================] - 13s 696ms/step - loss: 422.4203 - rmse: 20.5464 - mae: 15.5629 - mape: 75.2275 - val_loss: 697.2770 - val_rmse: 26.4010 - val_mae: 19.5418 - val_mape: 91.5428\n",
            "Epoch 35/60\n",
            "18/18 [==============================] - 13s 700ms/step - loss: 399.8299 - rmse: 19.9891 - mae: 14.4191 - mape: 71.8275 - val_loss: 599.2853 - val_rmse: 24.4749 - val_mae: 18.5547 - val_mape: 110.3310\n",
            "Epoch 36/60\n",
            "18/18 [==============================] - 13s 696ms/step - loss: 440.7850 - rmse: 20.9886 - mae: 15.3596 - mape: 76.6626 - val_loss: 937.3199 - val_rmse: 30.6113 - val_mae: 20.4306 - val_mape: 128.2845\n",
            "Epoch 37/60\n",
            "18/18 [==============================] - 13s 690ms/step - loss: 388.9489 - rmse: 19.7151 - mae: 14.6682 - mape: 73.0503 - val_loss: 651.3850 - val_rmse: 25.5170 - val_mae: 19.0017 - val_mape: 100.1206\n",
            "Epoch 38/60\n",
            "18/18 [==============================] - 13s 693ms/step - loss: 388.2925 - rmse: 19.6984 - mae: 14.7886 - mape: 72.0010 - val_loss: 495.4617 - val_rmse: 22.2530 - val_mae: 16.6860 - val_mape: 109.5189\n",
            "Epoch 39/60\n",
            "18/18 [==============================] - 12s 684ms/step - loss: 386.1281 - rmse: 19.6434 - mae: 15.0834 - mape: 72.3213 - val_loss: 450.9181 - val_rmse: 21.2286 - val_mae: 15.2818 - val_mape: 95.7699\n",
            "Epoch 40/60\n",
            "18/18 [==============================] - 13s 703ms/step - loss: 403.5891 - rmse: 20.0829 - mae: 14.6834 - mape: 67.3409 - val_loss: 486.1056 - val_rmse: 22.0418 - val_mae: 16.2881 - val_mape: 103.4684\n",
            "Epoch 41/60\n",
            "18/18 [==============================] - 13s 702ms/step - loss: 404.4404 - rmse: 20.1041 - mae: 14.9300 - mape: 72.0894 - val_loss: 431.6313 - val_rmse: 20.7693 - val_mae: 15.3068 - val_mape: 108.4256\n",
            "Epoch 42/60\n",
            "18/18 [==============================] - 13s 693ms/step - loss: 389.7941 - rmse: 19.7364 - mae: 14.4299 - mape: 68.8284 - val_loss: 558.1128 - val_rmse: 23.6188 - val_mae: 17.5570 - val_mape: 106.0885\n",
            "Epoch 43/60\n",
            "18/18 [==============================] - 13s 698ms/step - loss: 397.0617 - rmse: 19.9197 - mae: 15.1431 - mape: 75.3832 - val_loss: 689.4985 - val_rmse: 26.2532 - val_mae: 19.3572 - val_mape: 99.1452\n",
            "Epoch 44/60\n",
            "18/18 [==============================] - 13s 700ms/step - loss: 404.6662 - rmse: 20.1097 - mae: 14.6244 - mape: 66.6575 - val_loss: 436.4272 - val_rmse: 20.8844 - val_mae: 15.9963 - val_mape: 116.6652\n",
            "Epoch 45/60\n",
            "18/18 [==============================] - 13s 710ms/step - loss: 387.7377 - rmse: 19.6842 - mae: 14.8602 - mape: 76.0322 - val_loss: 474.5762 - val_rmse: 21.7786 - val_mae: 16.0406 - val_mape: 103.8977\n",
            "Epoch 46/60\n",
            "18/18 [==============================] - 13s 709ms/step - loss: 404.3610 - rmse: 20.1021 - mae: 14.7193 - mape: 70.1995 - val_loss: 641.4943 - val_rmse: 25.3224 - val_mae: 18.3740 - val_mape: 103.7627\n",
            "Epoch 47/60\n",
            "18/18 [==============================] - 14s 749ms/step - loss: 380.6945 - rmse: 19.5045 - mae: 14.5218 - mape: 71.9610 - val_loss: 508.8906 - val_rmse: 22.5526 - val_mae: 16.5374 - val_mape: 114.2602\n",
            "Epoch 48/60\n",
            "18/18 [==============================] - 14s 767ms/step - loss: 383.0399 - rmse: 19.5645 - mae: 14.7432 - mape: 76.8057 - val_loss: 1049.8373 - val_rmse: 32.3970 - val_mae: 21.8768 - val_mape: 118.3329\n",
            "Epoch 49/60\n",
            "18/18 [==============================] - 14s 751ms/step - loss: 381.5975 - rmse: 19.5276 - mae: 14.2699 - mape: 68.2790 - val_loss: 516.1121 - val_rmse: 22.7122 - val_mae: 17.4329 - val_mape: 111.3204\n",
            "Epoch 50/60\n",
            "18/18 [==============================] - 13s 720ms/step - loss: 388.8677 - rmse: 19.7129 - mae: 14.7730 - mape: 71.0975 - val_loss: 631.0036 - val_rmse: 25.1144 - val_mae: 18.9657 - val_mape: 94.7657\n",
            "Epoch 51/60\n",
            "18/18 [==============================] - 14s 761ms/step - loss: 358.5111 - rmse: 18.9272 - mae: 14.1070 - mape: 66.3899 - val_loss: 464.7368 - val_rmse: 21.5515 - val_mae: 16.6200 - val_mape: 117.1196\n",
            "Epoch 52/60\n",
            "18/18 [==============================] - 13s 731ms/step - loss: 392.0816 - rmse: 19.7942 - mae: 14.6305 - mape: 70.8724 - val_loss: 449.6323 - val_rmse: 21.1981 - val_mae: 15.9449 - val_mape: 99.9798\n",
            "Epoch 53/60\n",
            "18/18 [==============================] - 13s 727ms/step - loss: 396.6277 - rmse: 19.9087 - mae: 14.5800 - mape: 72.1940 - val_loss: 451.6807 - val_rmse: 21.2464 - val_mae: 15.6310 - val_mape: 102.5910\n",
            "Epoch 54/60\n",
            "18/18 [==============================] - 13s 701ms/step - loss: 393.1211 - rmse: 19.8204 - mae: 14.7344 - mape: 69.0526 - val_loss: 454.3711 - val_rmse: 21.3096 - val_mae: 15.6305 - val_mape: 97.4523\n",
            "Epoch 55/60\n",
            "18/18 [==============================] - 13s 705ms/step - loss: 399.9651 - rmse: 19.9923 - mae: 14.9747 - mape: 75.7978 - val_loss: 524.6780 - val_rmse: 22.8999 - val_mae: 16.5834 - val_mape: 91.3223\n",
            "Epoch 56/60\n",
            "18/18 [==============================] - 13s 736ms/step - loss: 392.8525 - rmse: 19.8136 - mae: 14.7067 - mape: 73.3710 - val_loss: 476.2771 - val_rmse: 21.8175 - val_mae: 16.0687 - val_mape: 106.1199\n",
            "Epoch 57/60\n",
            "18/18 [==============================] - 13s 731ms/step - loss: 362.7946 - rmse: 19.0400 - mae: 14.1532 - mape: 71.5214 - val_loss: 2318.7959 - val_rmse: 48.1510 - val_mae: 40.0854 - val_mape: 127.1204\n",
            "Epoch 58/60\n",
            "18/18 [==============================] - 14s 747ms/step - loss: 432.7824 - rmse: 20.7968 - mae: 15.4716 - mape: 74.8759 - val_loss: 460.4060 - val_rmse: 21.4507 - val_mae: 15.4773 - val_mape: 92.2855\n",
            "Epoch 59/60\n",
            "18/18 [==============================] - 13s 738ms/step - loss: 380.4219 - rmse: 19.4974 - mae: 14.6644 - mape: 73.6714 - val_loss: 458.9319 - val_rmse: 21.4163 - val_mae: 15.5134 - val_mape: 105.8160\n",
            "Epoch 60/60\n",
            "18/18 [==============================] - 14s 757ms/step - loss: 375.6506 - rmse: 19.3746 - mae: 14.4293 - mape: 69.5639 - val_loss: 442.6065 - val_rmse: 21.0317 - val_mae: 15.7448 - val_mape: 112.2491\n"
          ]
        }
      ]
    },
    {
      "cell_type": "code",
      "source": [
        "plt.figure()\n",
        "plt.plot(history.history[\"rmse\"], label=\"train_rmse\")\n",
        "plt.plot(history.history[\"val_rmse\"], label=\"val_rmse\")\n",
        "#plt.xticks(range(0,60))\n",
        "plt.title(\"RMSE train/validation by Epoch\")\n",
        "plt.xlabel(\"Epoch #\")\n",
        "plt.ylabel(\"RMSE\")\n",
        "plt.legend(loc=\"upper right\")"
      ],
      "metadata": {
        "colab": {
          "base_uri": "https://localhost:8080/",
          "height": 313
        },
        "id": "GJdl8J9AAs-R",
        "outputId": "707e649f-5d8b-4526-db3a-42cdd2a5d5ef"
      },
      "execution_count": 29,
      "outputs": [
        {
          "output_type": "execute_result",
          "data": {
            "text/plain": [
              "<matplotlib.legend.Legend at 0x7fcfe0d18c50>"
            ]
          },
          "metadata": {},
          "execution_count": 29
        },
        {
          "output_type": "display_data",
          "data": {
            "text/plain": [
              "<Figure size 432x288 with 1 Axes>"
            ],
            "image/png": "[encoded data removed]"
          },
          "metadata": {
            "needs_background": "light"
          }
        }
      ]
    },
    {
      "cell_type": "markdown",
      "source": [
        "Predict the test data"
      ],
      "metadata": {
        "id": "Svx8HZMiF5HT"
      }
    },
    {
      "cell_type": "code",
      "source": [
        "cnn_pred = model.predict(X_test)"
      ],
      "metadata": {
        "id": "wiPb9MweFr95"
      },
      "execution_count": 31,
      "outputs": []
    },
    {
      "cell_type": "code",
      "source": [
        "# getting test ID with the score to the cnn dataframe\n",
        "cnn = pd.DataFrame()\n",
        "cnn['Id'] = test['Id']\n",
        "cnn['Pawpularity'] = cnn_pred\n",
        "cnn.to_csv('submission.csv',index=False)"
      ],
      "metadata": {
        "id": "kvghcKOJF_9r"
      },
      "execution_count": 34,
      "outputs": []
    },
    {
      "cell_type": "code",
      "source": [
        "cnn.head(10)"
      ],
      "metadata": {
        "colab": {
          "base_uri": "https://localhost:8080/",
          "height": 300
        },
        "id": "kpEq4_qAGEet",
        "outputId": "5635d62f-6284-42ff-ce72-b130a2f57708"
      },
      "execution_count": 33,
      "outputs": [
        {
          "output_type": "execute_result",
          "data": {
            "text/plain": [
              "                                 Id  Pawpularity\n",
              "0  4128bae22183829d2b5fea10effdb0c3    28.190063\n",
              "1  43a2262d7738e3d420d453815151079e    24.714249\n",
              "2  4e429cead1848a298432a0acad014c9d    26.493828\n",
              "3  80bc3ccafcc51b66303c2c263aa38486    24.891457\n",
              "4  8f49844c382931444e68dffbe20228f4    27.055363\n",
              "5  b03f7041962238a7c9d6537e22f9b017    26.440094\n",
              "6  c978013571258ed6d4637f6e8cc9d6a3    26.678612\n",
              "7  e0de453c1bffc20c22b072b34b54e50f    27.295107"
            ],
            "text/html": [
              "\n",
              "  <div id=\"df-c50e6be3-f737-40c6-a8d9-5579d06c4822\">\n",
              "    <div class=\"colab-df-container\">\n",
              "      <div>\n",
              "<style scoped>\n",
              "    .dataframe tbody tr th:only-of-type {\n",
              "        vertical-align: middle;\n",
              "    }\n",
              "\n",
              "    .dataframe tbody tr th {\n",
              "        vertical-align: top;\n",
              "    }\n",
              "\n",
              "    .dataframe thead th {\n",
              "        text-align: right;\n",
              "    }\n",
              "</style>\n",
              "<table border=\"1\" class=\"dataframe\">\n",
              "  <thead>\n",
              "    <tr style=\"text-align: right;\">\n",
              "      <th></th>\n",
              "      <th>Id</th>\n",
              "      <th>Pawpularity</th>\n",
              "    </tr>\n",
              "  </thead>\n",
              "  <tbody>\n",
              "    <tr>\n",
              "      <th>0</th>\n",
              "      <td>4128bae22183829d2b5fea10effdb0c3</td>\n",
              "      <td>28.190063</td>\n",
              "    </tr>\n",
              "    <tr>\n",
              "      <th>1</th>\n",
              "      <td>43a2262d7738e3d420d453815151079e</td>\n",
              "      <td>24.714249</td>\n",
              "    </tr>\n",
              "    <tr>\n",
              "      <th>2</th>\n",
              "      <td>4e429cead1848a298432a0acad014c9d</td>\n",
              "      <td>26.493828</td>\n",
              "    </tr>\n",
              "    <tr>\n",
              "      <th>3</th>\n",
              "      <td>80bc3ccafcc51b66303c2c263aa38486</td>\n",
              "      <td>24.891457</td>\n",
              "    </tr>\n",
              "    <tr>\n",
              "      <th>4</th>\n",
              "      <td>8f49844c382931444e68dffbe20228f4</td>\n",
              "      <td>27.055363</td>\n",
              "    </tr>\n",
              "    <tr>\n",
              "      <th>5</th>\n",
              "      <td>b03f7041962238a7c9d6537e22f9b017</td>\n",
              "      <td>26.440094</td>\n",
              "    </tr>\n",
              "    <tr>\n",
              "      <th>6</th>\n",
              "      <td>c978013571258ed6d4637f6e8cc9d6a3</td>\n",
              "      <td>26.678612</td>\n",
              "    </tr>\n",
              "    <tr>\n",
              "      <th>7</th>\n",
              "      <td>e0de453c1bffc20c22b072b34b54e50f</td>\n",
              "      <td>27.295107</td>\n",
              "    </tr>\n",
              "  </tbody>\n",
              "</table>\n",
              "</div>\n",
              "      <button class=\"colab-df-convert\" onclick=\"convertToInteractive('df-c50e6be3-f737-40c6-a8d9-5579d06c4822')\"\n",
              "              title=\"Convert this dataframe to an interactive table.\"\n",
              "              style=\"display:none;\">\n",
              "        \n",
              "  <svg xmlns=\"http://www.w3.org/2000/svg\" height=\"24px\"viewBox=\"0 0 24 24\"\n",
              "       width=\"24px\">\n",
              "    <path d=\"M0 0h24v24H0V0z\" fill=\"none\"/>\n",
              "    <path d=\"M18.56 5.44l.94 2.06.94-2.06 2.06-.94-2.06-.94-.94-2.06-.94 2.06-2.06.94zm-11 1L8.5 8.5l.94-2.06 2.06-.94-2.06-.94L8.5 2.5l-.94 2.06-2.06.94zm10 10l.94 2.06.94-2.06 2.06-.94-2.06-.94-.94-2.06-.94 2.06-2.06.94z\"/><path d=\"M17.41 7.96l-1.37-1.37c-.4-.4-.92-.59-1.43-.59-.52 0-1.04.2-1.43.59L10.3 9.45l-7.72 7.72c-.78.78-.78 2.05 0 2.83L4 21.41c.39.39.9.59 1.41.59.51 0 1.02-.2 1.41-.59l7.78-7.78 2.81-2.81c.8-.78.8-2.07 0-2.86zM5.41 20L4 18.59l7.72-7.72 1.47 1.35L5.41 20z\"/>\n",
              "  </svg>\n",
              "      </button>\n",
              "      \n",
              "  <style>\n",
              "    .colab-df-container {\n",
              "      display:flex;\n",
              "      flex-wrap:wrap;\n",
              "      gap: 12px;\n",
              "    }\n",
              "\n",
              "    .colab-df-convert {\n",
              "      background-color: #E8F0FE;\n",
              "      border: none;\n",
              "      border-radius: 50%;\n",
              "      cursor: pointer;\n",
              "      display: none;\n",
              "      fill: #1967D2;\n",
              "      height: 32px;\n",
              "      padding: 0 0 0 0;\n",
              "      width: 32px;\n",
              "    }\n",
              "\n",
              "    .colab-df-convert:hover {\n",
              "      background-color: #E2EBFA;\n",
              "      box-shadow: 0px 1px 2px rgba(60, 64, 67, 0.3), 0px 1px 3px 1px rgba(60, 64, 67, 0.15);\n",
              "      fill: #174EA6;\n",
              "    }\n",
              "\n",
              "    [theme=dark] .colab-df-convert {\n",
              "      background-color: #3B4455;\n",
              "      fill: #D2E3FC;\n",
              "    }\n",
              "\n",
              "    [theme=dark] .colab-df-convert:hover {\n",
              "      background-color: #434B5C;\n",
              "      box-shadow: 0px 1px 3px 1px rgba(0, 0, 0, 0.15);\n",
              "      filter: drop-shadow(0px 1px 2px rgba(0, 0, 0, 0.3));\n",
              "      fill: #FFFFFF;\n",
              "    }\n",
              "  </style>\n",
              "\n",
              "      <script>\n",
              "        const buttonEl =\n",
              "          document.querySelector('#df-c50e6be3-f737-40c6-a8d9-5579d06c4822 button.colab-df-convert');\n",
              "        buttonEl.style.display =\n",
              "          google.colab.kernel.accessAllowed ? 'block' : 'none';\n",
              "\n",
              "        async function convertToInteractive(key) {\n",
              "          const element = document.querySelector('#df-c50e6be3-f737-40c6-a8d9-5579d06c4822');\n",
              "          const dataTable =\n",
              "            await google.colab.kernel.invokeFunction('convertToInteractive',\n",
              "                                                     [key], {});\n",
              "          if (!dataTable) return;\n",
              "\n",
              "          const docLinkHtml = 'Like what you see? Visit the ' +\n",
              "            '<a target=\"_blank\" href=https://colab.research.google.com/notebooks/data_table.ipynb>data table notebook</a>'\n",
              "            + ' to learn more about interactive tables.';\n",
              "          element.innerHTML = '';\n",
              "          dataTable['output_type'] = 'display_data';\n",
              "          await google.colab.output.renderOutput(dataTable, element);\n",
              "          const docLink = document.createElement('div');\n",
              "          docLink.innerHTML = docLinkHtml;\n",
              "          element.appendChild(docLink);\n",
              "        }\n",
              "      </script>\n",
              "    </div>\n",
              "  </div>\n",
              "  "
            ]
          },
          "metadata": {},
          "execution_count": 33
        }
      ]
    },
    {
      "cell_type": "code",
      "source": [
        ""
      ],
      "metadata": {
        "id": "J0Z9MxRrGKKa"
      },
      "execution_count": null,
      "outputs": []
    }
  ]
}