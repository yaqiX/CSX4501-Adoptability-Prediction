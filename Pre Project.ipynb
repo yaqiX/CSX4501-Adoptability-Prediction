{
 "cells": [
  {
   "cell_type": "markdown",
   "id": "e76b0fd8",
   "metadata": {},
   "source": []
  },
  {
   "cell_type": "markdown",
   "id": "c734145a",
   "metadata": {},
   "source": [
    "# Introduction "
   ]
  },
  {
   "cell_type": "markdown",
   "id": "b725c8d1",
   "metadata": {},
   "source": [
    "Before I settled in California, I was always thinking to adopt a cat. So after I finally settle, I check petfinder, if you're not familiar with it, it's a platform that helps you to find pets that are available for adoption."
   ]
  },
  {
   "cell_type": "markdown",
   "id": "5a19f0b4",
   "metadata": {},
   "source": [
    "I live in westwood and there are plenty of shelters but I end up adopt from a shelter 60 miles away after I saw the picture of our cat in Petfinder. Without any reponse from the shelter, just one single picture in petfinder, we drove there immediately after we saw his cute cat paws. Before that we had been to many shelters and met so many stray animals, all after we saw some cute animal friends we would want to meet. Petfinder.com has options for shelters and rescuers to set up the pet profile, their basic features, but from my experience, the first sight from the pictures matters the most. I think this project can help improve people find their ideal animal friends, as well as more animal waiting to be adopted find their forever home. It can also guide shelters and rescuers to take better pictures to increase the chance that these animals being favored at the first sight. \n",
    "I also adopted a puppy in my home country China, where animal rescuing growing rapidly these few years. But we are not doing enough. I was also volunteering and helping local shelters, and writing a lot to government facilities for animal protection laws. I really hope this project can provide some insights, at least for myself, to improve animal rescue and promote stray animal adoption."
   ]
  },
  {
   "cell_type": "markdown",
   "id": "2d1a149e",
   "metadata": {},
   "source": [
    "# Method"
   ]
  },
  {
   "cell_type": "markdown",
   "id": "7ae74e83",
   "metadata": {},
   "source": [
    "Here's the link of data sources. [Final Project Datasets: Petfinder Popularity of shelter pet photos prediction](https://www.kaggle.com/c/petfinder-pawpularity-score/data \"Final Project Datasets: Petfinder Popularity of shelter pet photos prediction\")\n",
    "### - The Pawpularity Score \n",
    "The Pawpularity Score is derived from each pet profile's page view statistics at the listing pages, using an algorithm that normalizes the traffic data across different pages, platforms (web & mobile) and various metrics. Duplicate clicks, crawler bot accesses and sponsored profiles are excluded from the analysis.\n",
    "### - Test and Train\n",
    "The data is consisted of test data and train data. To be noted, the train.csv and test.csv files contain metadata for photos in the training set and test set, respectively. They featured each photo features such as photo quality, pet action, etc."
   ]
  },
  {
   "cell_type": "code",
   "execution_count": 6,
   "id": "baf09a1c",
   "metadata": {},
   "outputs": [
    {
     "ename": "ModuleNotFoundError",
     "evalue": "No module named 'seaborn'",
     "output_type": "error",
     "traceback": [
      "\u001b[0;31m---------------------------------------------------------------------------\u001b[0m",
      "\u001b[0;31mModuleNotFoundError\u001b[0m                       Traceback (most recent call last)",
      "Input \u001b[0;32mIn [6]\u001b[0m, in \u001b[0;36m<cell line: 4>\u001b[0;34m()\u001b[0m\n\u001b[1;32m      2\u001b[0m \u001b[38;5;28;01mimport\u001b[39;00m \u001b[38;5;21;01mmatplotlib\u001b[39;00m\u001b[38;5;21;01m.\u001b[39;00m\u001b[38;5;21;01mpyplot\u001b[39;00m \u001b[38;5;28;01mas\u001b[39;00m \u001b[38;5;21;01mplt\u001b[39;00m\n\u001b[1;32m      3\u001b[0m \u001b[38;5;28;01mimport\u001b[39;00m \u001b[38;5;21;01mnumpy\u001b[39;00m \u001b[38;5;28;01mas\u001b[39;00m \u001b[38;5;21;01mnp\u001b[39;00m\n\u001b[0;32m----> 4\u001b[0m \u001b[38;5;28;01mimport\u001b[39;00m \u001b[38;5;21;01mseaborn\u001b[39;00m \u001b[38;5;28;01mas\u001b[39;00m \u001b[38;5;21;01msns\u001b[39;00m\n\u001b[1;32m      5\u001b[0m \u001b[38;5;28;01mfrom\u001b[39;00m \u001b[38;5;21;01mglob\u001b[39;00m \u001b[38;5;28;01mimport\u001b[39;00m glob\n",
      "\u001b[0;31mModuleNotFoundError\u001b[0m: No module named 'seaborn'"
     ]
    }
   ],
   "source": [
    "import pandas as pd\n",
    "import matplotlib.pyplot as plt\n",
    "import numpy as np\n",
    "import seaborn as sns\n",
    "from glob import glob"
   ]
  },
  {
   "cell_type": "code",
   "execution_count": null,
   "id": "e985014a",
   "metadata": {},
   "outputs": [],
   "source": [
    "train_df = pd.read_csv('train.csv')\n",
    "test_df = pd.read_csv('test.csv')"
   ]
  },
  {
   "cell_type": "code",
   "execution_count": null,
   "id": "6a706231",
   "metadata": {},
   "outputs": [],
   "source": [
    "train_jpg = glob(\"train/*.jpg\")\n",
    "test_jpg = glob(\"test/*.jpg\")"
   ]
  },
  {
   "cell_type": "markdown",
   "id": "07f6c9b9",
   "metadata": {},
   "source": [
    "## About the data"
   ]
  },
  {
   "cell_type": "code",
   "execution_count": null,
   "id": "55169e65",
   "metadata": {},
   "outputs": [],
   "source": [
    "train_df.shape"
   ]
  },
  {
   "cell_type": "code",
   "execution_count": null,
   "id": "d1b4e89e",
   "metadata": {},
   "outputs": [],
   "source": [
    "train_df.info()"
   ]
  },
  {
   "cell_type": "code",
   "execution_count": null,
   "id": "9f60f65d",
   "metadata": {},
   "outputs": [],
   "source": [
    "test_df.shape"
   ]
  },
  {
   "cell_type": "code",
   "execution_count": null,
   "id": "6294fa12",
   "metadata": {},
   "outputs": [],
   "source": [
    "type(train_jpg)"
   ]
  },
  {
   "cell_type": "code",
   "execution_count": null,
   "id": "ce80bf54",
   "metadata": {},
   "outputs": [],
   "source": [
    "len(train_jpg)"
   ]
  },
  {
   "cell_type": "code",
   "execution_count": null,
   "id": "cb3b2594",
   "metadata": {},
   "outputs": [],
   "source": [
    "train_jpg[0:5]"
   ]
  },
  {
   "cell_type": "markdown",
   "id": "0c54af48",
   "metadata": {},
   "source": [
    "# About the train data"
   ]
  },
  {
   "cell_type": "code",
   "execution_count": null,
   "id": "704c41dc",
   "metadata": {
    "scrolled": false
   },
   "outputs": [],
   "source": [
    "train_df.head()\n",
    "# the 0/1 shows no/yes of each feature"
   ]
  },
  {
   "cell_type": "code",
   "execution_count": null,
   "id": "9d497f0e",
   "metadata": {},
   "outputs": [],
   "source": [
    "train_df.describe()"
   ]
  },
  {
   "cell_type": "code",
   "execution_count": null,
   "id": "c6d0a29d",
   "metadata": {},
   "outputs": [],
   "source": [
    "train_df[['Pawpularity']].describe()"
   ]
  },
  {
   "cell_type": "markdown",
   "id": "d6080a03",
   "metadata": {},
   "source": [
    "#### distribution"
   ]
  },
  {
   "cell_type": "code",
   "execution_count": null,
   "id": "42a1e516",
   "metadata": {},
   "outputs": [],
   "source": [
    "sns.histplot(data=train_df, x='Pawpularity', bins=100)\n",
    "plt.axvline(train_df['Pawpularity'].mean(), c='red', ls='-',label='Mean Pawpularity')\n",
    "plt.axvline(train_df['Pawpularity'].median(),c='green',ls='-',label='Median Pawpularity')\n",
    "plt.legend()\n",
    "plt.show()\n",
    "# little peak at the beginning and almost 300 100score. There's trend in the data"
   ]
  },
  {
   "cell_type": "markdown",
   "id": "e95e7f03",
   "metadata": {},
   "source": [
    "#### I wanted to plot this graph with each feature and see how they relate to the overall data. Found this code below and I think it's so efficient! "
   ]
  },
  {
   "cell_type": "code",
   "execution_count": null,
   "id": "b109ec61",
   "metadata": {},
   "outputs": [],
   "source": [
    "feature_variables = train_df.columns.values.tolist()\n",
    "\n",
    "#for each of the feature variables, doesn't include Id and Pawpularity by using [1:-1]\n",
    "#show a boxplot and distribution plot against pawpularity\n",
    "\n",
    "for variable in feature_variables[1:-1]:\n",
    "    fig, ax = plt.subplots(1,2)\n",
    "    sns.boxplot(data=train_df, x=variable, y='Pawpularity', ax=ax[0])\n",
    "    sns.histplot(train_df, x=\"Pawpularity\", hue=variable, kde=True, ax=ax[1])\n",
    "    plt.suptitle(variable, fontsize=20, fontweight='bold')"
   ]
  },
  {
   "cell_type": "markdown",
   "id": "fdbc77ea",
   "metadata": {},
   "source": [
    "# Image data"
   ]
  },
  {
   "cell_type": "code",
   "execution_count": null,
   "id": "98ab3634",
   "metadata": {},
   "outputs": [],
   "source": [
    "print(train_jpg[0])"
   ]
  },
  {
   "cell_type": "code",
   "execution_count": null,
   "id": "d2bffef4",
   "metadata": {},
   "outputs": [],
   "source": [
    "image_path = train_jpg[0]\n",
    "image_array = plt.imread(image_path) \n",
    "print(image_array.shape)"
   ]
  },
  {
   "cell_type": "code",
   "execution_count": null,
   "id": "dbe6fa6e",
   "metadata": {},
   "outputs": [],
   "source": [
    "plt.imshow(image_array)"
   ]
  },
  {
   "cell_type": "code",
   "execution_count": null,
   "id": "1f94cd43",
   "metadata": {
    "scrolled": true
   },
   "outputs": [],
   "source": [
    "for x in range(5):\n",
    "    image_path = train_jpg[x]\n",
    "    image_array = plt.imread(image_path) \n",
    "    plt.imshow(image_array)\n",
    "    plt.title(x) \n",
    "    plt.show()"
   ]
  },
  {
   "cell_type": "markdown",
   "id": "2ae46b9d",
   "metadata": {},
   "source": [
    "#### To show the pawpularity score of each picture"
   ]
  },
  {
   "cell_type": "code",
   "execution_count": null,
   "id": "2d58ea41",
   "metadata": {},
   "outputs": [],
   "source": [
    "from pathlib import Path"
   ]
  },
  {
   "cell_type": "code",
   "execution_count": null,
   "id": "8c40e603",
   "metadata": {},
   "outputs": [],
   "source": [
    "for x in range(5):\n",
    "    image_path = train_jpg[x]\n",
    "    \n",
    "    # to get the matching score\n",
    "    id_stem = Path(image_path).stem\n",
    "    id_stem_series = train_df.loc[train_df['Id'] == id_stem,'Pawpularity']\n",
    "    pawpularity_match_id = id_stem_series.iloc[0]\n",
    "    \n",
    "    image_array = plt.imread(image_path) \n",
    "    plt.imshow(image_array)\n",
    "    title = image_path + ' the score is ' +str(pawpularity_match_id)\n",
    "    plt.title(title) \n",
    "    plt.show()"
   ]
  },
  {
   "cell_type": "markdown",
   "id": "de6bdc39",
   "metadata": {},
   "source": [
    "# Models"
   ]
  },
  {
   "cell_type": "markdown",
   "id": "ff9d33ba",
   "metadata": {},
   "source": [
    "In my Machine Learning with R class I learned several models that are suitable for this case. Last week I just learned decision trees and found similar cases so I'll try use some models from that. There are many models in decision trees that I can use. I already replicate the course lab in R so I wish it can work out in Python.\n",
    "\n",
    "Another reason that I choose decision tree is that in the EDA part, we can see that the data is not really \"identicle\". Pictures that actually looks alike could have very different score. I'm curious about why. Tree-based methodstypically are not competitive with the best supervised learning approaches but very useful for interpretation. So I think this will still work in this case.\n",
    "\n",
    "This course also already covered ML and DL, in this project I started with simple ones: regression trees and classification trees, but the result didn't seem well, so I also did boost and I choose the natural gradient boosting.\n",
    "\n",
    "Also this competetion only has five test data so it wouldn't look as good in the graphs. I'll just split train and test data test_size=0.2 myself."
   ]
  },
  {
   "cell_type": "markdown",
   "id": "b7086d9f",
   "metadata": {},
   "source": [
    "## Regression Trees"
   ]
  },
  {
   "cell_type": "code",
   "execution_count": null,
   "id": "a02b44f4",
   "metadata": {},
   "outputs": [],
   "source": [
    "from sklearn.model_selection import train_test_split\n",
    "from sklearn.model_selection import cross_val_score\n",
    "\n",
    "from sklearn import tree\n",
    "from sklearn.tree import DecisionTreeRegressor\n",
    "from sklearn.tree import DecisionTreeClassifier"
   ]
  },
  {
   "cell_type": "code",
   "execution_count": null,
   "id": "52dc3eb6",
   "metadata": {},
   "outputs": [],
   "source": [
    "y = train_df['Pawpularity']\n",
    "\n",
    "# exclude Id and Pawpualarirty for the feature variables\n",
    "X = train_df.drop(['Id','Pawpularity'],axis=1)"
   ]
  },
  {
   "cell_type": "code",
   "execution_count": null,
   "id": "a3c554b4",
   "metadata": {},
   "outputs": [],
   "source": [
    "x_train, x_test, y_train, y_test = train_test_split(X, y, test_size = 0.2, random_state=5)"
   ]
  },
  {
   "cell_type": "code",
   "execution_count": null,
   "id": "60c97ed2",
   "metadata": {},
   "outputs": [],
   "source": [
    "tree_reg = DecisionTreeRegressor(max_depth = 3, min_samples_split = 10)\n",
    "tree_reg.fit(x_train, y_train)\n",
    "tree_reg_pred = tree_reg.predict(x_test)"
   ]
  },
  {
   "cell_type": "code",
   "execution_count": null,
   "id": "9da050f3",
   "metadata": {
    "scrolled": true
   },
   "outputs": [],
   "source": [
    "from sklearn.metrics import mean_squared_error\n",
    "np.sqrt(mean_squared_error(y_test, tree_reg_pred))"
   ]
  },
  {
   "cell_type": "markdown",
   "id": "da12b1a2",
   "metadata": {},
   "source": [
    "Not very good result"
   ]
  },
  {
   "cell_type": "markdown",
   "id": "c8ea8493",
   "metadata": {},
   "source": [
    "#### Visualize the tree"
   ]
  },
  {
   "cell_type": "code",
   "execution_count": null,
   "id": "be3b1757",
   "metadata": {},
   "outputs": [],
   "source": [
    "fig = plt.figure(figsize=(15,5))\n",
    "plot = tree.plot_tree(tree_reg, feature_names=x_train.columns.values.tolist(), filled=True)"
   ]
  },
  {
   "cell_type": "markdown",
   "id": "78e0d8dc",
   "metadata": {},
   "source": [
    "#### test the model"
   ]
  },
  {
   "cell_type": "code",
   "execution_count": null,
   "id": "2bebe7d6",
   "metadata": {},
   "outputs": [],
   "source": [
    "import matplotlib.patches as mpatches"
   ]
  },
  {
   "cell_type": "code",
   "execution_count": null,
   "id": "f645e75a",
   "metadata": {},
   "outputs": [],
   "source": [
    "def testthemodel(y_test,y_pred,title):\n",
    "    if max(y_test) >= max(y_pred):\n",
    "        model_range = int(max(y_test))\n",
    "    else:\n",
    "        model_range = int(max(y_pred))\n",
    "    plt.scatter(range(len(y_test)), y_test, color='green')\n",
    "    plt.scatter(range(len(y_pred)), y_pred, color='red')\n",
    "    plt.ylabel('Pawpularity ')\n",
    "    plt.legend(handles = [mpatches.Patch(color='red', label='prediction'),mpatches.Patch(color='g', label='test')])\n",
    "    plt.show()\n",
    "    return"
   ]
  },
  {
   "cell_type": "code",
   "execution_count": null,
   "id": "79ffbed9",
   "metadata": {},
   "outputs": [],
   "source": [
    "testthemodel(y_test, tree_reg_pred, \"Test vs Predicted\")\n",
    "plt.figure(figsize=(12,4))\n",
    "sns.histplot(tree_reg_pred,color='r',stat='probability', kde=True)\n",
    "sns.histplot(y_test,color='g',alpha=0.3,stat='probability', kde=True)\n",
    "plt.legend(labels=['prediction','Test'])\n",
    "plt.title('Test vs Predicted')\n",
    "plt.show()"
   ]
  },
  {
   "cell_type": "markdown",
   "id": "b4b3ed4c",
   "metadata": {},
   "source": [
    "## Classification Trees"
   ]
  },
  {
   "cell_type": "code",
   "execution_count": null,
   "id": "7a9dedff",
   "metadata": {},
   "outputs": [],
   "source": [
    "tree_clf = DecisionTreeClassifier(max_depth = 4, min_samples_split = 10)\n",
    "tree_clf.fit(x_train, y_train)\n",
    "tree_clf_pred = tree_clf.predict(x_test)"
   ]
  },
  {
   "cell_type": "code",
   "execution_count": null,
   "id": "1f8ab473",
   "metadata": {},
   "outputs": [],
   "source": [
    "np.sqrt(mean_squared_error(y_test, tree_clf_pred))"
   ]
  },
  {
   "cell_type": "markdown",
   "id": "8fffdb11",
   "metadata": {},
   "source": [
    "Still look bad. Should keep trying other model for the final submission."
   ]
  },
  {
   "cell_type": "code",
   "execution_count": null,
   "id": "b30e909d",
   "metadata": {},
   "outputs": [],
   "source": [
    "testthemodel(y_test, tree_clf_pred, \"Test vs Predicted\")\n",
    "\n",
    "plt.figure(figsize=(12,4))\n",
    "sns.histplot(tree_clf_pred,color='r',alpha=0.3,stat='probability', kde=True)\n",
    "sns.histplot(y_test,color='g',alpha=0.3,stat='probability', kde=True)\n",
    "plt.legend(labels=['prediction','test'])\n",
    "plt.title('Test vs Predict Distribution')\n",
    "plt.show()"
   ]
  },
  {
   "cell_type": "markdown",
   "id": "b7e48833",
   "metadata": {},
   "source": [
    "Actually even if the sqrt is bigger for classification, the graph somehow looks a bit more accurate than regression."
   ]
  },
  {
   "cell_type": "markdown",
   "id": "7d159400",
   "metadata": {},
   "source": [
    "## Natural Gradient Boosting"
   ]
  },
  {
   "cell_type": "code",
   "execution_count": 11,
   "id": "754ce275",
   "metadata": {
    "scrolled": true
   },
   "outputs": [
    {
     "ename": "NameError",
     "evalue": "name 'train_test_split' is not defined",
     "output_type": "error",
     "traceback": [
      "\u001b[0;31m---------------------------------------------------------------------------\u001b[0m",
      "\u001b[0;31mNameError\u001b[0m                                 Traceback (most recent call last)",
      "Input \u001b[0;32mIn [11]\u001b[0m, in \u001b[0;36m<cell line: 1>\u001b[0;34m()\u001b[0m\n\u001b[0;32m----> 1\u001b[0m X_train, X_test, Y_train, Y_test \u001b[38;5;241m=\u001b[39m \u001b[43mtrain_test_split\u001b[49m(train[feature_columns], Y, test_size\u001b[38;5;241m=\u001b[39m\u001b[38;5;241m0.2\u001b[39m)\n\u001b[1;32m      3\u001b[0m ngb \u001b[38;5;241m=\u001b[39m NGBRegressor()\u001b[38;5;241m.\u001b[39mfit(X_train, Y_train)\n\u001b[1;32m      4\u001b[0m Y_preds \u001b[38;5;241m=\u001b[39m ngb\u001b[38;5;241m.\u001b[39mpredict(X_test)\n",
      "\u001b[0;31mNameError\u001b[0m: name 'train_test_split' is not defined"
     ]
    }
   ],
   "source": [
    "from ngboost import NGBRegressor\n",
    "\n",
    "from sklearn.datasets import load_boston\n",
    "from sklearn.model_selection import train_test_split\n",
    "from sklearn.metrics import mean_squared_error\n",
    "\n",
    "X_train, X_test, Y_train, Y_test = train_test_split(train[feature_columns], Y, test_size=0.2)\n",
    "\n",
    "ngb = NGBRegressor().fit(X_train, Y_train)\n",
    "Y_preds = ngb.predict(X_test)\n",
    "Y_dists = ngb.pred_dist(X_test)\n",
    "\n",
    "\n",
    "mean_squared_error(Y_preds, Y_test)"
   ]
  },
  {
   "cell_type": "markdown",
   "id": "27589739",
   "metadata": {},
   "source": [
    "# Image models"
   ]
  },
  {
   "cell_type": "markdown",
   "id": "44b1114d",
   "metadata": {},
   "source": [
    "I saw most people were using pytorch but it looks much more complicated. So I'll stay with the course and use tensorflow."
   ]
  },
  {
   "cell_type": "code",
   "execution_count": null,
   "id": "9ae25f2d",
   "metadata": {},
   "outputs": [],
   "source": [
    "import tensorflow as tf\n",
    "from tensorflow import keras\n",
    "from tensorflow.keras import layers\n",
    "from tensorflow.keras import layers\n",
    "from tensorflow.keras.regularizers import l2\n",
    "from tensorflow.keras.preprocessing.image import ImageDataGenerator\n",
    "from tensorflow.python.client import device_lib"
   ]
  },
  {
   "cell_type": "code",
   "execution_count": null,
   "id": "9011b4a6",
   "metadata": {},
   "outputs": [],
   "source": [
    "def train_id_to_path(x):\n",
    "    return 'train/' + x + \".jpg\"\n",
    "def test_id_to_path(x):\n",
    "    return 'test/' + x + \".jpg\""
   ]
  },
  {
   "cell_type": "code",
   "execution_count": null,
   "id": "b9d62edd",
   "metadata": {},
   "outputs": [],
   "source": [
    "train_df.head()"
   ]
  },
  {
   "cell_type": "code",
   "execution_count": null,
   "id": "bf5fa893",
   "metadata": {},
   "outputs": [],
   "source": [
    "train = pd.read_csv('train.csv')\n",
    "train = train.drop(['Subject Focus', 'Eyes', 'Face', 'Near', 'Action', 'Accessory', 'Group', 'Collage', 'Human', 'Occlusion', 'Info', 'Blur'],axis=1)"
   ]
  },
  {
   "cell_type": "code",
   "execution_count": null,
   "id": "c2c8e77c",
   "metadata": {},
   "outputs": [],
   "source": [
    "test = pd.read_csv('test.csv')\n",
    "test = test.drop(['Subject Focus', 'Eyes', 'Face', 'Near', 'Action', 'Accessory', 'Group', 'Collage', 'Human', 'Occlusion', 'Info', 'Blur'],axis=1)"
   ]
  },
  {
   "cell_type": "code",
   "execution_count": null,
   "id": "f71accbf",
   "metadata": {},
   "outputs": [],
   "source": [
    "train[\"img_path\"] = train[\"Id\"].apply(train_id_to_path)\n",
    "test[\"img_path\"] = test[\"Id\"].apply(test_id_to_path)"
   ]
  },
  {
   "cell_type": "code",
   "execution_count": null,
   "id": "0d8b3d4e",
   "metadata": {},
   "outputs": [],
   "source": [
    "train.head()"
   ]
  },
  {
   "cell_type": "code",
   "execution_count": null,
   "id": "317cf5af",
   "metadata": {},
   "outputs": [],
   "source": [
    "test.head()"
   ]
  },
  {
   "cell_type": "code",
   "execution_count": null,
   "id": "782232c7",
   "metadata": {},
   "outputs": [],
   "source": [
    "image_height = 100\n",
    "image_width = 100"
   ]
  },
  {
   "cell_type": "code",
   "execution_count": null,
   "id": "9d36e3d5",
   "metadata": {},
   "outputs": [],
   "source": [
    "def path_to_tensor(image_path):\n",
    "    raw = tf.io.read_file(image_path)\n",
    "    image = tf.image.decode_jpeg(raw, channels=3)\n",
    "    image = tf.cast(image, tf.float32) / 255.0\n",
    "    image = tf.image.resize(image, (image_height, image_width))\n",
    "    return image"
   ]
  },
  {
   "cell_type": "code",
   "execution_count": null,
   "id": "6aac8cf3",
   "metadata": {},
   "outputs": [],
   "source": [
    "print(train['img_path'][0])"
   ]
  },
  {
   "cell_type": "code",
   "execution_count": null,
   "id": "5c3824c8",
   "metadata": {},
   "outputs": [],
   "source": [
    "og_example_image = plt.imread('train/0007de18844b0dbbb5e1f607da0606e0.jpg') "
   ]
  },
  {
   "cell_type": "code",
   "execution_count": null,
   "id": "83d3b366",
   "metadata": {},
   "outputs": [],
   "source": [
    "print(og_example_image.shape)\n",
    "plt.imshow(og_example_image)\n",
    "plt.show()"
   ]
  },
  {
   "cell_type": "code",
   "execution_count": null,
   "id": "dbfe8cb6",
   "metadata": {
    "scrolled": true
   },
   "outputs": [],
   "source": [
    "X = []\n",
    "for img in train['img_path']:\n",
    "    new_img_tensor = path_to_tensor(img)\n",
    "    X.append(new_img_tensor)\n",
    "    \n",
    "print(type(X),len(X))\n",
    "X = np.array(X)\n",
    "print(type(X),X.shape)"
   ]
  },
  {
   "cell_type": "code",
   "execution_count": null,
   "id": "ec3ef6c4",
   "metadata": {},
   "outputs": [],
   "source": []
  }
 ],
 "metadata": {
  "kernelspec": {
   "display_name": "Python 3 (ipykernel)",
   "language": "python",
   "name": "python3"
  },
  "language_info": {
   "codemirror_mode": {
    "name": "ipython",
    "version": 3
   },
   "file_extension": ".py",
   "mimetype": "text/x-python",
   "name": "python",
   "nbconvert_exporter": "python",
   "pygments_lexer": "ipython3",
   "version": "3.9.10"
  }
 },
 "nbformat": 4,
 "nbformat_minor": 5
}
